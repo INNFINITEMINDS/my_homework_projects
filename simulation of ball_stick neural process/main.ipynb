{
 "cells": [
  {
   "cell_type": "markdown",
   "metadata": {},
   "source": [
    "# Optimizing the parameters of a ball-and-stick model"
   ]
  },
  {
   "cell_type": "markdown",
   "metadata": {},
   "source": [
    "This notebook is under a LGPLv3 license."
   ]
  },
  {
   "cell_type": "code",
   "execution_count": 5,
   "metadata": {},
   "outputs": [],
   "source": [
    "import os\n",
    "os.unsetenv('PYTHONHOME') # Solve an issue with NEURON simulator import\n",
    "\n",
    "%matplotlib inline\n",
    "import matplotlib.pyplot as plt\n",
    "%load_ext autoreload\n",
    "%autoreload"
   ]
  },
  {
   "cell_type": "code",
   "execution_count": 10,
   "metadata": {},
   "outputs": [],
   "source": [
    "import bluepyopt\n",
    "import bluepyopt.ephys as ephys"
   ]
  },
  {
   "cell_type": "code",
   "execution_count": 11,
   "metadata": {},
   "outputs": [],
   "source": [
    "# Adding a Morphology\n",
    "morph_swc_string = \"\"\"\n",
    "1 1 0.0 0.0 -10.0 10.0 -1                                                        \n",
    "2 1 0.0 0.0 0.0 10.0 1                                                           \n",
    "3 1 0.0 0.0 10.0 10.0 2                                                          \n",
    "4 3 0.0 10.0 0.0 2.0 2                                                           \n",
    "5 3 0.0 110.0 0.0 2.0 4\n",
    "\"\"\"\n",
    "with open('ballandstick.swc', 'w') as swc_file:\n",
    "    swc_file.write(morph_swc_string)"
   ]
  },
  {
   "cell_type": "code",
   "execution_count": 12,
   "metadata": {},
   "outputs": [
    {
     "data": {
      "image/png": "[encoded data removed]",
      "text/plain": [
       "<Figure size 432x288 with 1 Axes>"
      ]
     },
     "metadata": {
      "needs_background": "light"
     },
     "output_type": "display_data"
    }
   ],
   "source": [
    "import neurom\n",
    "import neurom.viewer\n",
    "fig, ax = neurom.viewer.draw(neurom.load_neuron('ballandstick.swc'))"
   ]
  },
  {
   "cell_type": "code",
   "execution_count": 13,
   "metadata": {},
   "outputs": [],
   "source": [
    "# Adding the morphology\n",
    "morph = bluepyopt.ephys.morphologies.NrnFileMorphology('ballandstick.swc')"
   ]
  },
  {
   "cell_type": "code",
   "execution_count": 14,
   "metadata": {},
   "outputs": [],
   "source": [
    "# Creating location objects\n",
    "somatic_loc = ephys.locations.NrnSeclistLocation('somatic', seclist_name='somatic')\n",
    "dend_loc = ephys.locations.NrnSeclistLocation('basal', seclist_name='basal')"
   ]
  },
  {
   "cell_type": "code",
   "execution_count": 15,
   "metadata": {},
   "outputs": [],
   "source": [
    "# Creating an HH mechanism and adding it to locations\n",
    "hh_mech = ephys.mechanisms.NrnMODMechanism(\n",
    "        name='hh',\n",
    "        suffix='hh',\n",
    "        locations=[somatic_loc, dend_loc])"
   ]
  },
  {
   "cell_type": "markdown",
   "metadata": {},
   "source": [
    "Let's define first a parameter that sets the specific capacitance of soma and dendrites to a frozen value. In this tutorial we'll focus on optimizing the parameters the soma. So we also fix the leakage conductance of the dendrite, and we make it passive by disabling the Na and K conductances."
   ]
  },
  {
   "cell_type": "code",
   "execution_count": 16,
   "metadata": {},
   "outputs": [],
   "source": [
    "# Creating parameters\n",
    "cm = ephys.parameters.NrnSectionParameter(\n",
    "        name='cm',\n",
    "        param_name='cm',\n",
    "        value=1.0, # in microfarad/cm2\n",
    "        locations=[somatic_loc, dend_loc],\n",
    "        frozen=True)\n",
    "\n",
    "\n",
    "# Fix leak conductance dendrite\n",
    "gl_dend = ephys.parameters.NrnSectionParameter(\n",
    "        name='gl_dend',\n",
    "        param_name='gl_hh',\n",
    "        value=1e-5,\n",
    "        locations=[dend_loc],\n",
    "        frozen=True)\n",
    "\n",
    "# Disable Na and K\n",
    "gnabar_dend = ephys.parameters.NrnSectionParameter(                                    \n",
    "        name='gnabar_hh_dend',\n",
    "        param_name='gnabar_hh',\n",
    "        locations=[dend_loc],\n",
    "        value=0,\n",
    "        frozen=True)   \n",
    "\n",
    "gkbar_dend = ephys.parameters.NrnSectionParameter(\n",
    "        name='gkbar_hh_dend',\n",
    "        param_name='gkbar_hh',\n",
    "        value=0,\n",
    "        locations=[dend_loc],\n",
    "        frozen=True)\n",
    "\n"
   ]
  },
  {
   "cell_type": "code",
   "execution_count": 17,
   "metadata": {},
   "outputs": [],
   "source": [
    "# set the bounds for the maximal conductances of the sodium and potassium channels in the soma\n",
    "gnabar_soma = ephys.parameters.NrnSectionParameter(                                    \n",
    "        name='gnabar_soma',\n",
    "        param_name='gnabar_hh',\n",
    "        locations=[somatic_loc],\n",
    "        bounds=[0.0, 1.0],\n",
    "        frozen=False)     \n",
    "gkbar_soma = ephys.parameters.NrnSectionParameter(\n",
    "        name='gkbar_soma',\n",
    "        param_name='gkbar_hh',\n",
    "        bounds=[0.0, 1.0],\n",
    "        locations=[somatic_loc],\n",
    "        frozen=False)"
   ]
  },
  {
   "cell_type": "code",
   "execution_count": 18,
   "metadata": {},
   "outputs": [],
   "source": [
    "# Creating the cel model\n",
    "# Put all components together\n",
    "ballandstick_cell = ephys.models.CellModel(\n",
    "        name='simple_cell',\n",
    "        morph=morph,\n",
    "        mechs=[hh_mech],\n",
    "        params=[cm, gnabar_dend, gkbar_dend, gl_dend, gnabar_soma, gkbar_soma])"
   ]
  },
  {
   "cell_type": "code",
   "execution_count": 19,
   "metadata": {},
   "outputs": [
    {
     "name": "stdout",
     "output_type": "stream",
     "text": [
      "simple_cell:\n",
      "  morphology:\n",
      "    ballandstick.swc\n",
      "  mechanisms:\n",
      "    hh: hh at ['somatic', 'basal']\n",
      "  params:\n",
      "    cm: ['somatic', 'basal'] cm = 1.0\n",
      "    gnabar_hh_dend: ['basal'] gnabar_hh = 0\n",
      "    gkbar_hh_dend: ['basal'] gkbar_hh = 0\n",
      "    gl_dend: ['basal'] gl_hh = 1e-05\n",
      "    gnabar_soma: ['somatic'] gnabar_hh = [0.0, 1.0]\n",
      "    gkbar_soma: ['somatic'] gkbar_hh = [0.0, 1.0]\n",
      "\n"
     ]
    }
   ],
   "source": [
    "# Print neuron description\n",
    "print(ballandstick_cell)"
   ]
  },
  {
   "cell_type": "code",
   "execution_count": 20,
   "metadata": {},
   "outputs": [],
   "source": [
    "# Injection location\n",
    "soma_loc = ephys.locations.NrnSeclistCompLocation(\n",
    "        name='soma',\n",
    "        seclist_name='somatic',\n",
    "        sec_index=0,\n",
    "        comp_x=0.5)"
   ]
  },
  {
   "cell_type": "code",
   "execution_count": 21,
   "metadata": {},
   "outputs": [],
   "source": [
    "# Creating protocols\n",
    "sweep_protocols = []\n",
    "for protocol_name, amplitude in [('step1', 0.1), ('step2', 0.5)]:\n",
    "    stim = ephys.stimuli.NrnSquarePulse(\n",
    "                step_amplitude=amplitude,\n",
    "                step_delay=100,\n",
    "                step_duration=50,\n",
    "                location=soma_loc,\n",
    "                total_duration=200)\n",
    "    rec = ephys.recordings.CompRecording(\n",
    "            name='%s.soma.v' % protocol_name,\n",
    "            location=soma_loc,\n",
    "            variable='v')\n",
    "    protocol = ephys.protocols.SweepProtocol(protocol_name, [stim], [rec])\n",
    "    sweep_protocols.append(protocol)\n",
    "twostep_protocol = ephys.protocols.SequenceProtocol('twostep', protocols=sweep_protocols)"
   ]
  },
  {
   "cell_type": "code",
   "execution_count": 23,
   "metadata": {},
   "outputs": [],
   "source": [
    "# Creating simulator object\n",
    "nrn = ephys.simulators.NrnSimulator()"
   ]
  },
  {
   "cell_type": "code",
   "execution_count": 24,
   "metadata": {},
   "outputs": [],
   "source": [
    "default_params = {'gnabar_soma': 0.25, 'gkbar_soma': 0.1}\n",
    "\n",
    "responses = twostep_protocol.run(cell_model=ballandstick_cell, param_values=default_params, sim=nrn)"
   ]
  },
  {
   "cell_type": "code",
   "execution_count": 25,
   "metadata": {},
   "outputs": [
    {
     "data": {
      "image/png": "[encoded data removed]",
      "text/plain": [
       "<Figure size 432x288 with 2 Axes>"
      ]
     },
     "metadata": {
      "needs_background": "light"
     },
     "output_type": "display_data"
    }
   ],
   "source": [
    "# Plotting the responses\n",
    "def plot_responses(responses):\n",
    "    plt.subplot(2,1,1)\n",
    "    plt.plot(responses['step1.soma.v']['time'], responses['step1.soma.v']['voltage'], label='step1')\n",
    "    plt.legend()\n",
    "    plt.subplot(2,1,2)\n",
    "    plt.plot(responses['step2.soma.v']['time'], responses['step2.soma.v']['voltage'], label='step2')\n",
    "    plt.legend()\n",
    "    plt.tight_layout()\n",
    "\n",
    "plot_responses(responses)"
   ]
  },
  {
   "cell_type": "code",
   "execution_count": 29,
   "metadata": {},
   "outputs": [
    {
     "data": {
      "image/png": "[encoded data removed]",
      "text/plain": [
       "<Figure size 432x288 with 2 Axes>"
      ]
     },
     "metadata": {
      "needs_background": "light"
     },
     "output_type": "display_data"
    }
   ],
   "source": [
    "# Checking other parameter values\n",
    "other_params = {'gnabar_soma': 0.4, 'gkbar_soma': 0.1}\n",
    "plot_responses(twostep_protocol.run(cell_model=ballandstick_cell, param_values=other_params, sim=nrn))"
   ]
  },
  {
   "cell_type": "code",
   "execution_count": 31,
   "metadata": {},
   "outputs": [
    {
     "name": "stdout",
     "output_type": "stream",
     "text": [
      "Number of spikes in 2nd trace: [5]\n",
      "Spike widths (ms) in 2nd trace: [1.7 1.2 1.1 1.1 1.1]\n",
      "Spike amplitude (mV) in 2nd trace: [106.89107585  60.48828771  56.77928406  56.66706529  55.78846843]\n"
     ]
    },
    {
     "data": {
      "image/png": "[encoded data removed]",
      "text/plain": [
       "<Figure size 432x288 with 2 Axes>"
      ]
     },
     "metadata": {
      "needs_background": "light"
     },
     "output_type": "display_data"
    }
   ],
   "source": [
    "# Using eFEL fo extracting features from responses\n",
    "responses = twostep_protocol.run(cell_model=ballandstick_cell, param_values=default_params, sim=nrn)\n",
    "# show where these names come from\n",
    "step2_time = responses['step2.soma.v']['time']\n",
    "step2_voltage = responses['step2.soma.v']['voltage']\n",
    "\n",
    "# Define this dictionary\n",
    "trace = {'T': step2_time, 'V': step2_voltage, 'stim_start': [100], 'stim_end': [150]}\n",
    "\n",
    "import efel\n",
    "# Explain AP_width (from where to where is AP_amplitude...\n",
    "feature_values = efel.getFeatureValues([trace], ['Spikecount', 'AP_width', 'AP_amplitude'])[0]\n",
    "\n",
    "plot_responses(responses)\n",
    "print('Number of spikes in 2nd trace: %s' % feature_values['Spikecount'])\n",
    "print('Spike widths (ms) in 2nd trace: %s' % feature_values['AP_width'])\n",
    "print('Spike amplitude (mV) in 2nd trace: %s' % feature_values['AP_amplitude'])"
   ]
  },
  {
   "cell_type": "code",
   "execution_count": 32,
   "metadata": {},
   "outputs": [],
   "source": [
    "# Set a goal for optimizaton\n",
    "efel_feature_means = {'step1': {'Spikecount': 4}, 'step2': {'Spikecount': 6}}"
   ]
  },
  {
   "cell_type": "code",
   "execution_count": 33,
   "metadata": {},
   "outputs": [],
   "source": [
    "# Define the eFELFeature and Objective objects\n",
    "objectives = []\n",
    "features = []\n",
    "\n",
    "for protocol in sweep_protocols:\n",
    "    stim_start = protocol.stimuli[0].step_delay\n",
    "    stim_end = stim_start + protocol.stimuli[0].step_duration\n",
    "    for efel_feature_name, mean in efel_feature_means[protocol.name].items():\n",
    "        feature_name = '%s.%s' % (protocol.name, efel_feature_name)\n",
    "        feature = ephys.efeatures.eFELFeature(\n",
    "                    feature_name,\n",
    "                    efel_feature_name=efel_feature_name,\n",
    "                    recording_names={'': '%s.soma.v' % protocol.name},\n",
    "                    stim_start=stim_start,\n",
    "                    stim_end=stim_end,\n",
    "                    exp_mean=mean,\n",
    "                    exp_std=0.05 * abs(mean))\n",
    "        features.append(feature)\n",
    "        objective = ephys.objectives.SingletonObjective(\n",
    "            feature_name,\n",
    "            feature)\n",
    "        objectives.append(objective)"
   ]
  },
  {
   "cell_type": "code",
   "execution_count": 35,
   "metadata": {},
   "outputs": [],
   "source": [
    "# Calculating scores from protocol responses\n",
    "score_calc = ephys.objectivescalculators.ObjectivesCalculator(objectives) "
   ]
  },
  {
   "cell_type": "code",
   "execution_count": 36,
   "metadata": {},
   "outputs": [],
   "source": [
    "# Creating the cell evaluator\n",
    "cell_evaluator = ephys.evaluators.CellEvaluator(\n",
    "        cell_model=ballandstick_cell,\n",
    "        param_names=['gnabar_soma', 'gkbar_soma'],\n",
    "        fitness_protocols={twostep_protocol.name: twostep_protocol},\n",
    "        fitness_calculator=score_calc,\n",
    "        sim=nrn)"
   ]
  },
  {
   "cell_type": "code",
   "execution_count": 38,
   "metadata": {},
   "outputs": [
    {
     "name": "stdout",
     "output_type": "stream",
     "text": [
      "Scores: {'step1.Spikecount': 15.0, 'step2.Spikecount': 3.333333333333333}\n"
     ]
    }
   ],
   "source": [
    "# Evaluating the initial parameters\n",
    "print('Scores:', cell_evaluator.evaluate_with_dicts(default_params))"
   ]
  },
  {
   "cell_type": "code",
   "execution_count": 40,
   "metadata": {},
   "outputs": [],
   "source": [
    "# Set up the optimization algorithm (Evolutionary optimization)\n",
    "optimisation_algorithm = bluepyopt.deapext.optimisations.IBEADEAPOptimisation(\n",
    "        evaluator=cell_evaluator,\n",
    "        offspring_size = 10)"
   ]
  },
  {
   "cell_type": "code",
   "execution_count": 41,
   "metadata": {},
   "outputs": [],
   "source": [
    "# Running the optimization\n",
    "final_pop, hall_of_fame, logs, hist = optimisation_algorithm.run(max_ngen=10)"
   ]
  },
  {
   "cell_type": "code",
   "execution_count": 43,
   "metadata": {},
   "outputs": [
    {
     "name": "stdout",
     "output_type": "stream",
     "text": [
      "Hall of fame: \n",
      "gnabar_soma=0.111973, gkbar_soma=0.028347\n",
      "gnabar_soma=0.126539, gkbar_soma=0.028130\n",
      "gnabar_soma=0.126539, gkbar_soma=0.028347\n",
      "gnabar_soma=0.155147, gkbar_soma=0.028347\n",
      "gnabar_soma=0.769901, gkbar_soma=0.133438\n",
      "gnabar_soma=0.729154, gkbar_soma=0.133678\n",
      "gnabar_soma=0.768255, gkbar_soma=0.133438\n",
      "gnabar_soma=0.729154, gkbar_soma=0.133438\n",
      "gnabar_soma=0.564005, gkbar_soma=0.137345\n",
      "gnabar_soma=0.510401, gkbar_soma=0.127938\n"
     ]
    }
   ],
   "source": [
    "# Print the results\n",
    "print('Hall of fame: ')\n",
    "for ind in hall_of_fame:\n",
    "    print('gnabar_soma=%f, gkbar_soma=%f' % tuple(ind))"
   ]
  },
  {
   "cell_type": "markdown",
   "metadata": {},
   "source": [
    "The best individual found during the optimisation is the first individual of the hall of fame"
   ]
  },
  {
   "cell_type": "code",
   "execution_count": 45,
   "metadata": {},
   "outputs": [
    {
     "name": "stdout",
     "output_type": "stream",
     "text": [
      "Best individual:   [0.11197318623454744, 0.02834747652200631]\n"
     ]
    }
   ],
   "source": [
    "# Checking the best individual\n",
    "best_ind = hall_of_fame[0]\n",
    "print('Best individual:  ', best_ind)"
   ]
  },
  {
   "cell_type": "code",
   "execution_count": 46,
   "metadata": {},
   "outputs": [
    {
     "name": "stdout",
     "output_type": "stream",
     "text": [
      "{'gnabar_soma': 0.11197318623454744, 'gkbar_soma': 0.02834747652200631}\n"
     ]
    }
   ],
   "source": [
    "# Evaluating the best individual\n",
    "best_ind_dict = cell_evaluator.param_dict(best_ind)\n",
    "print(best_ind_dict)"
   ]
  },
  {
   "cell_type": "code",
   "execution_count": 48,
   "metadata": {},
   "outputs": [
    {
     "name": "stdout",
     "output_type": "stream",
     "text": [
      "Score:  {'step1.Spikecount': 0.0, 'step2.Spikecount': 0.0}\n"
     ]
    },
    {
     "data": {
      "image/png": "[encoded data removed]",
      "text/plain": [
       "<Figure size 432x288 with 2 Axes>"
      ]
     },
     "metadata": {
      "needs_background": "light"
     },
     "output_type": "display_data"
    }
   ],
   "source": [
    "# Plot the responses\n",
    "responses = twostep_protocol.run(cell_model=ballandstick_cell, param_values=best_ind_dict, sim=nrn)\n",
    "print(\"Score: \", score_calc.calculate_scores(responses))\n",
    "plot_responses(responses)\n",
    " "
   ]
  },
  {
   "cell_type": "code",
   "execution_count": 49,
   "metadata": {},
   "outputs": [
    {
     "data": {
      "text/plain": [
       "(0.0, 14.666666666666666)"
      ]
     },
     "execution_count": 49,
     "metadata": {},
     "output_type": "execute_result"
    },
    {
     "data": {
      "image/png": "[encoded data removed]",
      "text/plain": [
       "<Figure size 432x288 with 1 Axes>"
      ]
     },
     "metadata": {
      "needs_background": "light"
     },
     "output_type": "display_data"
    }
   ],
   "source": [
    "# Plot the fitnesses\n",
    "import numpy\n",
    "gen_numbers = logs.select('gen')\n",
    "min_fitness = logs.select('min')\n",
    "max_fitness = logs.select('max')\n",
    "plt.plot(gen_numbers, min_fitness, label='min fitness')\n",
    "plt.xlabel('generation #')\n",
    "plt.ylabel('score (# std)')\n",
    "plt.legend()\n",
    "plt.xlim(min(gen_numbers) - 1, max(gen_numbers) + 1) \n",
    "plt.ylim(0.9*min(min_fitness), 1.1 * max(min_fitness)) "
   ]
  },
  {
   "cell_type": "code",
   "execution_count": null,
   "metadata": {},
   "outputs": [],
   "source": [
    "# Repeating the work for AP widths of 1.3 and 1.6 for steps 1 and 2\n",
    "efel_feature_means_ex = {'step1': {'AP_width': 1.3}, 'step2': {'AP_width': 1.6}}\n",
    "objectives_ex = []\n",
    "features_ex = []\n",
    "\n",
    "for protocol in sweep_protocols:\n",
    "    stim_start = protocol.stimuli[0].step_delay\n",
    "    stim_end = stim_start + protocol.stimuli[0].step_duration\n",
    "    for efel_feature_name, mean in efel_feature_means_ex[protocol.name].items():\n",
    "        feature_name = '%s.%s' % (protocol.name, efel_feature_name)\n",
    "        feature = ephys.efeatures.eFELFeature(\n",
    "                    feature_name,\n",
    "                    efel_feature_name=efel_feature_name,\n",
    "                    recording_names={'': '%s.soma.v' % protocol.name},\n",
    "                    stim_start=stim_start,\n",
    "                    stim_end=stim_end,\n",
    "                    exp_mean=mean,\n",
    "                    exp_std=0.05 * abs(mean))\n",
    "        features_ex.append(feature)\n",
    "        objective = ephys.objectives.SingletonObjective(\n",
    "            feature_name,\n",
    "            feature)\n",
    "        objectives_ex.append(objective)\n",
    "        \n",
    "score_calc_ex = ephys.objectivescalculators.ObjectivesCalculator(objectives_ex)\n",
    "\n",
    "cell_evaluator_ex = ephys.evaluators.CellEvaluator(\n",
    "        cell_model=ballandstick_cell,\n",
    "        param_names=['gnabar_soma', 'gkbar_soma'],\n",
    "        fitness_protocols={twostep_protocol.name: twostep_protocol},\n",
    "        fitness_calculator=score_calc_ex,\n",
    "        sim=nrn)\n",
    "\n",
    "optimisation_algorithm_ex = bluepyopt.deapext.optimisations.IBEADEAPOptimisation(\n",
    "        evaluator=cell_evaluator_ex,\n",
    "        offspring_size = 10)\n",
    "\n",
    "final_pop_ex, hall_of_fame_ex, logs_ex, hist_ex = optimisation_algorithm_ex.run(max_ngen=10)\n",
    "\n",
    "best_ind_ex = hall_of_fame_ex[0]\n",
    "print('Best individual: ', best_ind_ex)\n",
    "\n",
    "best_ind_dict_ex = cell_evaluator.param_dict(best_ind_ex)\n",
    "print(cell_evaluator_ex.evaluate_with_lists(best_ind_ex))\n",
    "\n",
    "plot_responses(twostep_protocol.run(cell_model=ballandstick_cell, param_values=best_ind_dict_ex, sim=nrn))"
   ]
  },
  {
   "cell_type": "code",
   "execution_count": null,
   "metadata": {},
   "outputs": [],
   "source": []
  }
 ],
 "metadata": {
  "kernelspec": {
   "display_name": "Python 3",
   "language": "python",
   "name": "python3"
  },
  "language_info": {
   "codemirror_mode": {
    "name": "ipython",
    "version": 3
   },
   "file_extension": ".py",
   "mimetype": "text/x-python",
   "name": "python",
   "nbconvert_exporter": "python",
   "pygments_lexer": "ipython3",
   "version": "3.8.3"
  }
 },
 "nbformat": 4,
 "nbformat_minor": 4
}
