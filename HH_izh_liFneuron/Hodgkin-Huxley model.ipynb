{
 "metadata": {
  "name": "",
  "signature": "sha256:81d21cb163f1d9f005eea4038e98f2fa9521c1859f5422aeea3b99cd38dcbcf1"
 },
 "nbformat": 3,
 "nbformat_minor": 0,
 "worksheets": [
  {
   "cells": [
    {
     "cell_type": "markdown",
     "metadata": {},
     "source": [
      "# Topics covered\n",
      "\n",
      "Python:\n",
      "\n",
      "* numerical integration (euler and runge-kutta)\n",
      "* `scipy.integrate`\n",
      "\n",
      "\n",
      "Neuroscience:\n",
      "\n",
      "* circuit models of biological membranes\n",
      "* Nernst potential\n",
      "* active ion channels, gating model\n",
      "* activation/inactivation variables\n",
      "* current clamp\n",
      "* steady state/instantaneous I-V curve\n",
      "* action potential\n",
      "* f-I curve\n",
      "* rebound spikes\n",
      "\n",
      "References:\n",
      "\n",
      "* Wu, Johnson, Cellular Neurophysiology"
     ]
    },
    {
     "cell_type": "markdown",
     "metadata": {},
     "source": [
      "# Linear membrane\n",
      "\n",
      "## Current clamp"
     ]
    },
    {
     "cell_type": "markdown",
     "metadata": {},
     "source": [
      "# Numerical integration"
     ]
    },
    {
     "cell_type": "markdown",
     "metadata": {},
     "source": [
      "# Sodium channel\n",
      "\n",
      "## Activation / Inactivation\n",
      "## I-V curve"
     ]
    },
    {
     "cell_type": "markdown",
     "metadata": {},
     "source": [
      "# Hodgkin-Huxley model of squid giant axon\n",
      "\n",
      "## Action potential\n",
      "\n",
      "## f-I curve\n",
      "\n",
      "## Rebound spikes"
     ]
    },
    {
     "cell_type": "code",
     "collapsed": false,
     "input": [],
     "language": "python",
     "metadata": {},
     "outputs": []
    }
   ],
   "metadata": {}
  }
 ]
}